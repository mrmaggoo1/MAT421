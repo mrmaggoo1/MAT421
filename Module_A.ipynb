{
  "nbformat": 4,
  "nbformat_minor": 0,
  "metadata": {
    "colab": {
      "provenance": [],
      "authorship_tag": "ABX9TyOQJ3YqYAvC7nZrtI6RgcCZ",
      "include_colab_link": true
    },
    "kernelspec": {
      "name": "python3",
      "display_name": "Python 3"
    },
    "language_info": {
      "name": "python"
    }
  },
  "cells": [
    {
      "cell_type": "markdown",
      "metadata": {
        "id": "view-in-github",
        "colab_type": "text"
      },
      "source": [
        "<a href=\"https://colab.research.google.com/github/mrmaggoo1/MAT421/blob/main/Module_A.ipynb\" target=\"_parent\"><img src=\"https://colab.research.google.com/assets/colab-badge.svg\" alt=\"Open In Colab\"/></a>"
      ]
    },
    {
      "cell_type": "markdown",
      "source": [
        "MAT 421 HW 1: Sections 9.1, 9.2, 9.3\n",
        "\n",
        "section 9.1: Base N and Binary Numbers\n",
        "The most commonly used base number system is the base10 system where each number from 0-9 represents a coefficient of 10. Computers utilize what is known as binary, or a base2, number system. Digits within this system include only 0 and 1 with each number being a coefficient of 2. "
      ],
      "metadata": {
        "id": "4BS1FFX9iJ8n"
      }
    },
    {
      "cell_type": "markdown",
      "source": [
        "1.) Convert user input demical value into binary example 1"
      ],
      "metadata": {
        "id": "i1oEWHPCoYOo"
      }
    },
    {
      "cell_type": "code",
      "execution_count": null,
      "metadata": {
        "colab": {
          "base_uri": "https://localhost:8080/"
        },
        "id": "Xu0Y7rpNdUQx",
        "outputId": "6f32f15d-d86e-49d5-cec1-67eb7a602642"
      },
      "outputs": [
        {
          "output_type": "stream",
          "name": "stdout",
          "text": [
            "Enter a decimal value: 10\n",
            "decimal value to convert:  10\n",
            "binary value:  1010\n",
            "convert binary back into decimal = 10\n"
          ]
        }
      ],
      "source": [
        "# this function takes any number d in a base10 decimal system and returns the binary value b\n",
        "# INPUT: \n",
        "#  d: decimal value input by user\n",
        "# OUTPUT:\n",
        "#  b: binary value equivalent\n",
        "d = int(input(\"Enter a decimal value: \"))\n",
        "def decimal_to_binary(d):\n",
        " b=bin(d)\n",
        " return b\n",
        "print(\"decimal value to convert: \",(d));\n",
        "print(\"binary value: \",(decimal_to_binary(d)[2:]))# index starts at position 2 to remove '0b' from output str\n",
        "dec = int(decimal_to_binary(d),2)\n",
        "print(\"convert binary back into decimal =\",dec)\n"
      ]
    },
    {
      "cell_type": "markdown",
      "source": [
        "2.) Convert user input demical value into binary example 2"
      ],
      "metadata": {
        "id": "2nP1m-pzohOt"
      }
    },
    {
      "cell_type": "code",
      "source": [
        "# this function takes any number d in a base10 decimal system and returns the binary value b\n",
        "# INPUT: \n",
        "#  d: decimal value input by user\n",
        "# OUTPUT:\n",
        "#  b: binary value equivalent\n",
        "d = int(input(\"Enter a decimal value: \"))\n",
        "def decimal_to_binary(d):\n",
        " b=bin(d)\n",
        " return b\n",
        "print(\"decimal value to convert: \",(d));\n",
        "print(\"binary value: \",(decimal_to_binary(d)[2:]))# index starts at position 2 to remove '0b' from output str\n",
        "dec = int(decimal_to_binary(d),2)\n",
        "print(\"convert binary back into decimal =\",dec)"
      ],
      "metadata": {
        "colab": {
          "base_uri": "https://localhost:8080/"
        },
        "id": "AsHRFw5eoshp",
        "outputId": "9519dc2b-e6c6-442c-ff10-c27e075e37a1"
      },
      "execution_count": null,
      "outputs": [
        {
          "output_type": "stream",
          "name": "stdout",
          "text": [
            "Enter a decimal value: 13\n",
            "decimal value to convert:  13\n",
            "binary value:  1101\n"
          ]
        }
      ]
    },
    {
      "cell_type": "markdown",
      "source": [
        "3.) Perform basic arthimetic operations (addition, multiplication) using binary values"
      ],
      "metadata": {
        "id": "IJ4Mkbk6yZj6"
      }
    },
    {
      "cell_type": "code",
      "source": [
        "# d1: 1st decimal value input by user\n",
        "# d2: 2nd decimal value input by user\n",
        "# b1: binary value equivalent of d1\n",
        "# b2: binary value equivalent of d2\n",
        "d1 = int(input(\"Enter 1st decimal value: \"))\n",
        "d2 = int(input(\"Enter 2nd decimal value: \"))\n",
        "print(\"b1 =\",(bin(d1))[2:],\"b2 =\",(bin(d2))[2:])\n",
        "\n",
        "# perform addition\n",
        "sum = bin(d1+d2)\n",
        "print(\"b1 + b2 =\",sum[2:])\n",
        "dec1 = int(sum,2)\n",
        "print(\"converted into decimal =\",dec1)\n",
        "\n",
        "# perform multiplication\n",
        "b_mult = bin(d1*d2)\n",
        "print(\"b1 * b2 =\",b_mult[2:])\n",
        "dec2 = int(b_mult,2)\n",
        "print(\"converted into decimal =\",dec2)"
      ],
      "metadata": {
        "colab": {
          "base_uri": "https://localhost:8080/"
        },
        "id": "3QsxvsMnyhCd",
        "outputId": "7ce0052c-2498-453b-bf08-a4f8bafcfef6"
      },
      "execution_count": null,
      "outputs": [
        {
          "output_type": "stream",
          "name": "stdout",
          "text": [
            "Enter 1st decimal value: 10\n",
            "Enter 2nd decimal value: 12\n",
            "b1 = 1010 b2 = 1100\n",
            "b1 + b2 = 10110\n",
            "converted into decimal = 22\n",
            "b1 * b2 = 1111000\n",
            "converted into decimal = 120\n"
          ]
        }
      ]
    },
    {
      "cell_type": "markdown",
      "source": [
        "Section 9.2: Floating Point Numbers\n",
        "Floating point numbers allocate bits into parts in order to achieve range and precision. The parts are: a sign indicator, exponent e, and a fraction. Python utilizes mainly IEEE754 floats to double precision for 64 total bits. 1 bit to the sign, 11 to the exponent, and 52 to the fraction. \n",
        "\n",
        "1.) Example of a float"
      ],
      "metadata": {
        "id": "lt7io7WLp09e"
      }
    },
    {
      "cell_type": "code",
      "source": [
        "# overflow of a number\n",
        "# overflow occurs when a number is larger than largest representable floating point number, resulting in an 'inf' result\n",
        "print(2e400)"
      ],
      "metadata": {
        "colab": {
          "base_uri": "https://localhost:8080/"
        },
        "id": "-Oed-BKi1I2X",
        "outputId": "eb1d74bf-1950-4cff-b102-39deece250c9"
      },
      "execution_count": null,
      "outputs": [
        {
          "output_type": "stream",
          "name": "stdout",
          "text": [
            "inf\n"
          ]
        }
      ]
    },
    {
      "cell_type": "code",
      "source": [
        "# underflow example\n",
        "# underflow is when a number is smaller than the smallest subnormal number, resulting in a '0' result\n",
        "print(2e-2000)"
      ],
      "metadata": {
        "colab": {
          "base_uri": "https://localhost:8080/"
        },
        "id": "vPlqXWaG1UKG",
        "outputId": "bacdf8d3-3b35-411f-f310-938909452a28"
      },
      "execution_count": null,
      "outputs": [
        {
          "output_type": "stream",
          "name": "stdout",
          "text": [
            "0.0\n"
          ]
        }
      ]
    },
    {
      "cell_type": "markdown",
      "source": [
        "2.) Use spacing function to determine gap between integers"
      ],
      "metadata": {
        "id": "2Ap3pBQ9148W"
      }
    },
    {
      "cell_type": "code",
      "source": [
        "# find the size of the gap using spacing function\n",
        "import numpy as np\n",
        "np.spacing(1e7) # gap at 1e5\n",
        "# returns a true/false statement depending on if the value of the gap falls between the chosen integer and the next value\n",
        "# true if the value is between the integers, false if it is outside the gap. \n",
        "1e7 == (1e7 + np.spacing(1e7)/3) \n",
        "\n"
      ],
      "metadata": {
        "colab": {
          "base_uri": "https://localhost:8080/"
        },
        "id": "JshOviQG_29Z",
        "outputId": "91e8efbb-236f-4cb3-e554-73f8487b3c86"
      },
      "execution_count": null,
      "outputs": [
        {
          "output_type": "execute_result",
          "data": {
            "text/plain": [
              "True"
            ]
          },
          "metadata": {},
          "execution_count": 3
        }
      ]
    },
    {
      "cell_type": "markdown",
      "source": [
        "Section 9.3: Round Off Errors\n",
        "The difference between the approximation of some value and its true value\n",
        "\n",
        "1.) Round Off Error"
      ],
      "metadata": {
        "id": "wgini9hfDrfb"
      }
    },
    {
      "cell_type": "code",
      "source": [
        "# example of a round-off error\n",
        "# the following statement returns a true/false statement depending of the result\n",
        "# True of the approximated value matches the true value; false if the approximated value does not match the true value\n",
        "\n",
        "print(6.7 - 6.634 == 0.066) # rounded approximation\n",
        "print(6.7 - 6.634) # true value"
      ],
      "metadata": {
        "colab": {
          "base_uri": "https://localhost:8080/"
        },
        "id": "Sl3X5pFHD5ei",
        "outputId": "8e040234-59a5-4662-af86-b61c209092f3"
      },
      "execution_count": 16,
      "outputs": [
        {
          "output_type": "stream",
          "name": "stdout",
          "text": [
            "False\n",
            "0.06599999999999984\n"
          ]
        }
      ]
    },
    {
      "cell_type": "markdown",
      "source": [
        "2.) Round Function"
      ],
      "metadata": {
        "id": "_sTowIkhE_og"
      }
    },
    {
      "cell_type": "code",
      "source": [
        "# use round function to round value of calculations to nearest approximated value\n",
        "# use previous EQ and make statement true using round function\n",
        "# rounds given statement to number of digits specified in second parameter\n",
        "round(6.7 - 6.634, 5) == round(0.066,5)\n",
        "\n"
      ],
      "metadata": {
        "colab": {
          "base_uri": "https://localhost:8080/"
        },
        "id": "e3DBkSK4FRzE",
        "outputId": "b2a89095-a3e3-4e44-f3d7-e0fe26802af4"
      },
      "execution_count": 15,
      "outputs": [
        {
          "output_type": "execute_result",
          "data": {
            "text/plain": [
              "True"
            ]
          },
          "metadata": {},
          "execution_count": 15
        }
      ]
    },
    {
      "cell_type": "markdown",
      "source": [
        "3.) Accumlation of round off error across multiple calculations"
      ],
      "metadata": {
        "id": "m7ipuQGFHCEM"
      }
    },
    {
      "cell_type": "code",
      "source": [
        "# define EQ to use for calc\n",
        "print(5.0 - 3/7 + 3/7)\n",
        "# define function that adds and subtracts value from 1 multiple times to accumlate round-off error\n",
        "# function pulled from textbook and modified\n",
        "def add_and_subtract(iterations):\n",
        "    result = 5\n",
        "    \n",
        "    for i in range(iterations):\n",
        "        result += 3/7\n",
        "\n",
        "    for i in range(iterations):\n",
        "        result -= 3/7\n",
        "    return result\n",
        "# add and subtract in increasing increments of 100,1000,10000 using function to determine error\n",
        "print(add_and_subtract(100))\n",
        "print(add_and_subtract(1000))\n",
        "print(add_and_subtract(10000))"
      ],
      "metadata": {
        "colab": {
          "base_uri": "https://localhost:8080/"
        },
        "id": "KjXQnjFtHI4h",
        "outputId": "0f9a9da9-8c90-40f2-89ea-c4f05921438f"
      },
      "execution_count": 20,
      "outputs": [
        {
          "output_type": "stream",
          "name": "stdout",
          "text": [
            "5.0\n",
            "5.0000000000000036\n",
            "5.000000000000025\n",
            "4.9999999999997975\n"
          ]
        }
      ]
    }
  ]
}