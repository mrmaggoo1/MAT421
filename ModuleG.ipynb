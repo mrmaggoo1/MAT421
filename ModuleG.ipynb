{
  "nbformat": 4,
  "nbformat_minor": 0,
  "metadata": {
    "colab": {
      "provenance": [],
      "authorship_tag": "ABX9TyN6jUSsvfoUkGMIA/CIGt6T",
      "include_colab_link": true
    },
    "kernelspec": {
      "name": "python3",
      "display_name": "Python 3"
    },
    "language_info": {
      "name": "python"
    }
  },
  "cells": [
    {
      "cell_type": "markdown",
      "metadata": {
        "id": "view-in-github",
        "colab_type": "text"
      },
      "source": [
        "<a href=\"https://colab.research.google.com/github/mrmaggoo1/MAT421/blob/main/ModuleG.ipynb\" target=\"_parent\"><img src=\"https://colab.research.google.com/assets/colab-badge.svg\" alt=\"Open In Colab\"/></a>"
      ]
    },
    {
      "cell_type": "code",
      "execution_count": 5,
      "metadata": {
        "colab": {
          "base_uri": "https://localhost:8080/"
        },
        "id": "ynNkrKGEmQmu",
        "outputId": "bf92c3f9-cf3b-4e92-a5d6-24c6a8a40d45"
      },
      "outputs": [
        {
          "output_type": "execute_result",
          "data": {
            "text/plain": [
              "0.8413996661720753"
            ]
          },
          "metadata": {},
          "execution_count": 5
        }
      ],
      "source": [
        "# Sections 21.1, 21.2, 21.3\n",
        "\n",
        "# Section 21.1: Numerical Integration\n",
        "# Given a function f(x), approximate the integral over interval [a,b]\n",
        "\n",
        "#P1: f(x) = cos(x)\n",
        "import numpy as np\n",
        "import scipy.integrate as integrate\n",
        "\n",
        "def my_int(f,a,b):\n",
        "    return (b-a)*np.mean(f)\n",
        "\n",
        "def f(x):\n",
        "    return np.cos(x)\n",
        "\n",
        "a = 0\n",
        "b = 1\n",
        "\n",
        "xran = np.arange(a,b+0.001,0.001)\n",
        "fx = f(xran)\n",
        "app = my_int(fx,a,b)\n",
        "app"
      ]
    },
    {
      "cell_type": "code",
      "source": [
        "# P2: f(x) = x^3\n",
        "import numpy as np\n",
        "import scipy.integrate as integrate\n",
        "\n",
        "def my_int(f,a,b):\n",
        "    return (b-a)*np.mean(f)\n",
        "\n",
        "def f(x):\n",
        "    return x**3\n",
        "\n",
        "a = 0\n",
        "b = 1\n",
        "\n",
        "xran = np.arange(a,b+0.001,0.001)\n",
        "fx = f(xran)\n",
        "app = my_int(fx,a,b)\n",
        "app"
      ],
      "metadata": {
        "colab": {
          "base_uri": "https://localhost:8080/"
        },
        "id": "QIjrNGcgnzHo",
        "outputId": "56eb712c-c908-4e74-95e7-5a075ed1fadb"
      },
      "execution_count": 7,
      "outputs": [
        {
          "output_type": "execute_result",
          "data": {
            "text/plain": [
              "0.25025000000000003"
            ]
          },
          "metadata": {},
          "execution_count": 7
        }
      ]
    },
    {
      "cell_type": "code",
      "source": [
        "# Section 21.2: Riemanns Integral\n",
        "import numpy as np\n",
        "\n",
        "a = 0\n",
        "b = np.pi\n",
        "n = 10\n",
        "h = (b - a) / (n - 1)\n",
        "x = np.linspace(a, b, n)\n",
        "f = np.cos(x)\n",
        "\n",
        "I_riemannL = h * sum(f[:n-1])\n",
        "err_riemannL = 2 - I_riemannL\n",
        "\n",
        "I_riemannR = h * sum(f[1::])\n",
        "err_riemannR = 2 - I_riemannR\n",
        "\n",
        "I_mid = h * sum(np.cos((x[:n-1] \\\n",
        "        + x[1:])/2))\n",
        "err_mid = 2 - I_mid\n",
        "\n",
        "print(I_riemannL)\n",
        "print(err_riemannL)\n",
        "\n",
        "print(I_riemannR)\n",
        "print(err_riemannR)\n",
        "\n",
        "print(I_mid)\n",
        "print(err_mid)"
      ],
      "metadata": {
        "colab": {
          "base_uri": "https://localhost:8080/"
        },
        "id": "fn-Dnvekn_nC",
        "outputId": "f2ca3053-1676-44a8-e4b6-9eade459689f"
      },
      "execution_count": 18,
      "outputs": [
        {
          "output_type": "stream",
          "name": "stdout",
          "text": [
            "0.34906585039886606\n",
            "1.650934149601134\n",
            "-0.3490658503988656\n",
            "2.3490658503988655\n",
            "1.5501637768927252e-16\n",
            "1.9999999999999998\n"
          ]
        }
      ]
    },
    {
      "cell_type": "code",
      "source": [
        "# Section 21.3: Trapezoid Method\n",
        "import numpy as np\n",
        "\n",
        "a = 0\n",
        "b = np.pi\n",
        "n = 10\n",
        "h = (b - a) / (n - 1)\n",
        "x = np.linspace(a, b, n)\n",
        "f = np.cos(x)\n",
        "\n",
        "I_trap = (h/2)*(f[0] + \\\n",
        "          2 * sum(f[1:n-1]) + f[n-1])\n",
        "err_trap = 2 - I_trap\n",
        "\n",
        "print(I_trap)\n",
        "print(err_trap)"
      ],
      "metadata": {
        "colab": {
          "base_uri": "https://localhost:8080/"
        },
        "id": "w0WWtKv2ofbF",
        "outputId": "0e5ae20f-bc28-4b89-a9e3-3f08ac2acdb5"
      },
      "execution_count": 17,
      "outputs": [
        {
          "output_type": "stream",
          "name": "stdout",
          "text": [
            "2.712786609562269e-16\n",
            "1.9999999999999998\n"
          ]
        }
      ]
    }
  ]
}