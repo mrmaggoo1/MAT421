{
  "nbformat": 4,
  "nbformat_minor": 0,
  "metadata": {
    "colab": {
      "provenance": [],
      "authorship_tag": "ABX9TyOw+tiLRrphyUy4boIR4RiQ",
      "include_colab_link": true
    },
    "kernelspec": {
      "name": "python3",
      "display_name": "Python 3"
    },
    "language_info": {
      "name": "python"
    }
  },
  "cells": [
    {
      "cell_type": "markdown",
      "metadata": {
        "id": "view-in-github",
        "colab_type": "text"
      },
      "source": [
        "<a href=\"https://colab.research.google.com/github/mrmaggoo1/MAT421/blob/main/Module_C.ipynb\" target=\"_parent\"><img src=\"https://colab.research.google.com/assets/colab-badge.svg\" alt=\"Open In Colab\"/></a>"
      ]
    },
    {
      "cell_type": "code",
      "execution_count": 4,
      "metadata": {
        "colab": {
          "base_uri": "https://localhost:8080/"
        },
        "id": "4Z_luCnNU-ZL",
        "outputId": "2eb54b38-8b5f-4683-9449-a650ad6e02ed"
      },
      "outputs": [
        {
          "output_type": "stream",
          "name": "stdout",
          "text": [
            "r = [1.97258053e-08]\n",
            "result= [0.]\n"
          ]
        }
      ],
      "source": [
        "# Module C HW: Root Finding\n",
        "# Sections 19.1, 19.2, 19.3, 19.4, 19.5\n",
        "\n",
        "# 19.1: Root Finding Problem Statement\n",
        "# The root of a function is a value x such that f(x) = 0. For cases that are easy to find the roots, exact solutions can be found. But for more\n",
        "# complex situations, it is best to generate a numerical approximation using various root finding methods. \n",
        "\n",
        "# P1: Find root of function\n",
        "# import array processing package 'numpy'\n",
        "import numpy as np\n",
        "# imports optimization package from scipy library, used for root finding\n",
        "from scipy import optimize\n",
        "# define function\n",
        "# 'lambda' creates anon. function that can evaluate and return one expression. Useful for constricting and minimizing certain code \n",
        "f = lambda x: np.sin(x) - x\n",
        "# find root near particular value\n",
        "r = optimize.fsolve(f, 4)\n",
        "print(\"r =\", r)\n",
        "\n",
        "# Verify the solution is a root\n",
        "result = f(r)\n",
        "print(\"result=\", result)"
      ]
    },
    {
      "cell_type": "code",
      "source": [
        "#P2: Function without a root\n",
        "# define function\n",
        "f = lambda x: 3/x\n",
        "r, infodict, ier, mesg = optimize.fsolve(f, -2, full_output=True)\n",
        "print(\"r =\", r)\n",
        "\n",
        "result = f(r)\n",
        "print(\"result=\", result)\n",
        "\n",
        "print(mesg)"
      ],
      "metadata": {
        "colab": {
          "base_uri": "https://localhost:8080/"
        },
        "id": "12k1mMcEX3Iy",
        "outputId": "1ea0b2c1-56fd-4b62-b4df-f7234cee9186"
      },
      "execution_count": 10,
      "outputs": [
        {
          "output_type": "stream",
          "name": "stdout",
          "text": [
            "r = [-3.52047359e+83]\n",
            "result= [-8.52158077e-84]\n",
            "The number of calls to function has reached maxfev = 400.\n"
          ]
        }
      ]
    },
    {
      "cell_type": "code",
      "source": [
        "# 19.2 and 19.3: Tolerance and Bisection Method\n",
        "# Tolerance is is the level of acceptable error for engineering applicatiobns. If the error is smaller than the tolerance, a satisfactory solution has been found. \n",
        "# Bisection method is a root finding method that chooses bounds to the left and right of a root and finds the approximated value within a tolerance\n",
        "# P3: Find roots of a function within tolerance levels using bisection method\n",
        "import numpy as np\n",
        "# INPUT\n",
        "#  f: function\n",
        "#  a: first bound\n",
        "#  b: second bound\n",
        "#  tol: acceptable tolerance\n",
        "def my_bisection(f, a, b, tol): \n",
        "    # approximates a root, R, of f bounded \n",
        "    # by a and b to within tolerance \n",
        "    # | f(m) | < tol with m the midpoint \n",
        "    # between a and b Recursive implementation\n",
        "    \n",
        "    # check if a and b bound a root\n",
        "    if np.sign(f(a)) == np.sign(f(b)):\n",
        "        raise Exception(\n",
        "         \"The scalars a and b do not bound a root\")\n",
        "        \n",
        "    # get midpoint\n",
        "    m = (a + b)/2\n",
        "    \n",
        "    if np.abs(f(m)) < tol:\n",
        "        # stopping condition, report m as root\n",
        "        return m\n",
        "    elif np.sign(f(a)) == np.sign(f(m)):\n",
        "        # case where m is an improvement on a. \n",
        "        # Make recursive call with a = m\n",
        "        return my_bisection(f, m, b, tol)\n",
        "    elif np.sign(f(b)) == np.sign(f(m)):\n",
        "        # case where m is an improvement on b. \n",
        "        # Make recursive call with b = m\n",
        "        return my_bisection(f, a, m, tol)\n",
        "\n",
        "# Define function\n",
        "f = lambda x: x**2 - 8\n",
        "\n",
        "# call my_bisection and pass in f,a,b, tol\n",
        "r1 = my_bisection(f, 0, 8, 0.1)\n",
        "print(\"root within tol = 0.1: r1 =\", r1)\n",
        "# call my_bisection again and find the root with less error\n",
        "r01 = my_bisection(f, 0, 8, 0.01)\n",
        "print(\"root within tol = 0.01: r01 =\", r01)\n",
        "\n",
        "print(\"Errors: \")\n",
        "print(\"f(r1) =\", f(r1))\n",
        "print(\"f(r01) =\", f(r01))\n"
      ],
      "metadata": {
        "colab": {
          "base_uri": "https://localhost:8080/"
        },
        "id": "13Mln6f_YwbP",
        "outputId": "a23a09be-3081-4eeb-9339-a85e89ced8da"
      },
      "execution_count": 23,
      "outputs": [
        {
          "output_type": "stream",
          "name": "stdout",
          "text": [
            "root within tol = 0.1: r1 = 2.8125\n",
            "root within tol = 0.01: r01 = 2.828125\n",
            "Errors: \n",
            "f(r1) = -0.08984375\n",
            "f(r01) = -0.001708984375\n"
          ]
        }
      ]
    },
    {
      "cell_type": "code",
      "source": [
        "# Section 17.4: Newton-Raphson Method\n",
        "# This method takes an initial guess that is close to the real root value and iterates the Newton steps until the initial guess gets close enough to the true value (within tolerance)\n",
        "# P4: Example of Newton steps\n",
        "\n",
        "import numpy as np\n",
        "# define function with known root\n",
        "f = lambda x: x**2 - 7\n",
        "# take derivative of the function\n",
        "f_prime = lambda x: 2*x\n",
        "# Use Newton method to find approx root using an initial guess\n",
        "newton_raphson = 2.7 - (f(2.7))/(f_prime(2.7))\n",
        "\n",
        "print(\"newton_raphson approx. root =\", newton_raphson)\n",
        "print(\"True root: sqrt(6) =\", np.sqrt(7))"
      ],
      "metadata": {
        "colab": {
          "base_uri": "https://localhost:8080/"
        },
        "id": "SNuyhDMQfLDe",
        "outputId": "28e96eba-9258-4e8f-9621-3ca2f44f32ce"
      },
      "execution_count": 31,
      "outputs": [
        {
          "output_type": "stream",
          "name": "stdout",
          "text": [
            "newton_raphson approx. root = 2.6462962962962964\n",
            "True root: sqrt(6) = 2.6457513110645907\n"
          ]
        }
      ]
    },
    {
      "cell_type": "code",
      "source": [
        "# P5: Define Newton method function and use to find roots of function\n",
        "\n",
        "# INPUT:\n",
        "#  f: function\n",
        "#  df: derivative\n",
        "#  x0: initial guess\n",
        "#  tol: tolerance\n",
        "# OUTPUT\n",
        "#  Newton root\n",
        "def my_newton(f, df, x0, tol):\n",
        "    # output is an estimation of the root of f \n",
        "    # using the Newton Raphson method\n",
        "    # recursive implementation\n",
        "    if abs(f(x0)) < tol:\n",
        "        return x0\n",
        "    else:\n",
        "        return my_newton(f, df, x0 - f(x0)/df(x0), tol)\n",
        "\n",
        "# define function\n",
        "f = lambda x: x**2-3\n",
        "# define df\n",
        "df = lambda x: 2*x;\n",
        "# call my_newton and estimate root\n",
        "est = my_newton(f, df, 1.7, 0.1)\n",
        "print('estimated root =: ', est)\n",
        "print('sqrt(3)= ', np.sqrt(3))"
      ],
      "metadata": {
        "colab": {
          "base_uri": "https://localhost:8080/"
        },
        "id": "M6Bo4C9thEdP",
        "outputId": "6fb49f19-b76a-4504-e61d-b979aae4cbc9"
      },
      "execution_count": 38,
      "outputs": [
        {
          "output_type": "stream",
          "name": "stdout",
          "text": [
            "estimated root =:  1.7323529411764707\n",
            "sqrt(3)=  1.7320508075688772\n"
          ]
        }
      ]
    },
    {
      "cell_type": "code",
      "source": [
        "# 19.5: Root Finding in Python\n",
        "# python has existing root finding functions such as fsolve from scipy.optimize. This function takes the function of interest and the initial guess to find the root\n",
        "from scipy.optimize import fsolve\n",
        "f = lambda x: x**2-5*x+6\n",
        "fsolve(f, [1, 5])"
      ],
      "metadata": {
        "colab": {
          "base_uri": "https://localhost:8080/"
        },
        "id": "Nkc5DfXnjrxD",
        "outputId": "0ba41bff-238c-4ef3-e27a-00f242b91b2a"
      },
      "execution_count": 45,
      "outputs": [
        {
          "output_type": "execute_result",
          "data": {
            "text/plain": [
              "array([2., 3.])"
            ]
          },
          "metadata": {},
          "execution_count": 45
        }
      ]
    }
  ]
}