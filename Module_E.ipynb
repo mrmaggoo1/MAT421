{
  "nbformat": 4,
  "nbformat_minor": 0,
  "metadata": {
    "colab": {
      "provenance": [],
      "authorship_tag": "ABX9TyPg5EyAPdykZZ8Jd7I3je7H",
      "include_colab_link": true
    },
    "kernelspec": {
      "name": "python3",
      "display_name": "Python 3"
    },
    "language_info": {
      "name": "python"
    }
  },
  "cells": [
    {
      "cell_type": "markdown",
      "metadata": {
        "id": "view-in-github",
        "colab_type": "text"
      },
      "source": [
        "<a href=\"https://colab.research.google.com/github/mrmaggoo1/MAT421/blob/main/Module_E.ipynb\" target=\"_parent\"><img src=\"https://colab.research.google.com/assets/colab-badge.svg\" alt=\"Open In Colab\"/></a>"
      ]
    },
    {
      "cell_type": "code",
      "execution_count": 9,
      "metadata": {
        "colab": {
          "base_uri": "https://localhost:8080/"
        },
        "id": "xst6WIFIv2sx",
        "outputId": "f2e70715-c24a-4f94-b155-437474a4c7cd"
      },
      "outputs": [
        {
          "output_type": "stream",
          "name": "stdout",
          "text": [
            "the limit of 1/x as x approaches infinity = 0\n"
          ]
        }
      ],
      "source": [
        "# Sections 3.2, 3.3\n",
        "\n",
        "# Section 3.2\n",
        "# Continuity and Differentiation\n",
        "\n",
        "# P1: Finding limit of symbolic function\n",
        "# Import sympy for symbolic operations\n",
        "from sympy import limit, oo, Symbol\n",
        "# define symbolic variable\n",
        "x = Symbol('x')\n",
        "# define function\n",
        "y = 5/x\n",
        "print('the limit of 1/x as x approaches infinity =',limit(y,x,oo))"
      ]
    },
    {
      "cell_type": "code",
      "source": [
        "# P2: Finding derivative of function with respect to x\n",
        "# Import sympy for symbolic operations\n",
        "from sympy import *\n",
        "# define symbolic variable\n",
        "x = Symbol('x')\n",
        "# define function\n",
        "y = x**2+x+1\n",
        "# differentiate with respect to x\n",
        "y_p = y.diff(x)\n",
        "print(y_p)"
      ],
      "metadata": {
        "colab": {
          "base_uri": "https://localhost:8080/"
        },
        "id": "gb2YqSogxlm4",
        "outputId": "d579c9c3-a673-48fe-f5df-3db4dd4e0ae2"
      },
      "execution_count": 12,
      "outputs": [
        {
          "output_type": "stream",
          "name": "stdout",
          "text": [
            "2*x + 1\n"
          ]
        }
      ]
    },
    {
      "cell_type": "code",
      "source": [
        "# P3: Differentiate function with respect to x\n",
        "from sympy import symbols, cos, diff\n",
        "# create symbolic variables\n",
        "a,b,c=symbols('a b c', real=True)\n",
        "# define function\n",
        "fun = 2*b+a*c+sin(a)*b**2+c\n",
        "print(diff(fun,a))"
      ],
      "metadata": {
        "colab": {
          "base_uri": "https://localhost:8080/"
        },
        "id": "Kwv4sL54x7B7",
        "outputId": "50d5c5bd-93cd-4b89-cd56-cc411a2cced8"
      },
      "execution_count": 14,
      "outputs": [
        {
          "output_type": "stream",
          "name": "stdout",
          "text": [
            "b**2*cos(a) + c\n"
          ]
        }
      ]
    },
    {
      "cell_type": "code",
      "source": [
        "# P4: Create Jacobian Matrix\n",
        "from pprint import pprint\n",
        "from numpy import array, zeros, diag, diagflat, dot\n",
        "# create function to use for jacobian\n",
        "def jacobi(A, b, N=25, x=None):\n",
        "\n",
        "  if x is None:\n",
        "    x=zeros(len(A[0]))\n",
        "  D = diag(A)\n",
        "  R = A-diagflat(D)\n",
        "\n",
        "  for i in range(N):\n",
        "    x = (b-dot(R,x))/ D\n",
        "  return x\n",
        "\n",
        "# define matrices\n",
        "A = array([[6, 3],[7,9]])\n",
        "b = array([11,19])\n",
        "# create intial guess matrix\n",
        "ig = array([1,1])\n",
        "\n",
        "sol = jacobi(A, b, N=25, x= ig)\n",
        "\n",
        "print (\"A:\")\n",
        "pprint(A)\n",
        "print(\"b:\")\n",
        "pprint(b)\n",
        "print(\"x:\")\n",
        "pprint(sol)\n",
        "\n"
      ],
      "metadata": {
        "colab": {
          "base_uri": "https://localhost:8080/"
        },
        "id": "A1ClAKMWyqYH",
        "outputId": "906e0772-02b5-4455-99c2-5bce2e059edb"
      },
      "execution_count": 20,
      "outputs": [
        {
          "output_type": "stream",
          "name": "stdout",
          "text": [
            "A:\n",
            "array([[6, 3],\n",
            "       [7, 9]])\n",
            "b:\n",
            "array([11, 19])\n",
            "x:\n",
            "array([1.272728  , 1.12121466])\n"
          ]
        }
      ]
    },
    {
      "cell_type": "code",
      "source": [
        "import numpy as np\n",
        "import matplotlib.pyplot as plt\n",
        "\n",
        "x=np.linspace(1,10,50)\n",
        "f=np.log(x)\n",
        "plt.plot(x,f,color=(1,0,1))\n",
        "plt.grid()\n",
        "plt.xlabel('x')\n",
        "plt.ylabel('ln(x)')\n",
        "a=3\n",
        "b=9\n",
        "lam = .4\n",
        "c = lam * a + (1-lam)*b\n",
        "fa = np.log(a)\n",
        "fb = np.log(b)\n",
        "fc = np.log(c)\n",
        "fcc = lam *fa+(1-lam)*fb\n",
        "\n",
        "plt.plot([a,a], [0,fa])\n",
        "plt.plot([b,b], [0,fb])\n",
        "plt.plot([c,c], [0,fc])\n",
        "plt.plot([c,c], [0, fcc])\n",
        "plt.plot([a,b], [fa,fb])"
      ],
      "metadata": {
        "colab": {
          "base_uri": "https://localhost:8080/",
          "height": 578
        },
        "id": "DGOYft2jzxH7",
        "outputId": "c64fd8d5-97c7-4b2e-8acf-116f924e215a"
      },
      "execution_count": 42,
      "outputs": [
        {
          "output_type": "execute_result",
          "data": {
            "text/plain": [
              "[<matplotlib.lines.Line2D at 0x7f066c09cbe0>]"
            ]
          },
          "metadata": {},
          "execution_count": 42
        },
        {
          "output_type": "display_data",
          "data": {
            "text/plain": [
              "<Figure size 921.6x633.6 with 1 Axes>"
            ],
            "image/png": "[encoded data removed]"
          },
          "metadata": {
            "needs_background": "light"
          }
        }
      ]
    }
  ]
}