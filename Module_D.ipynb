{
  "nbformat": 4,
  "nbformat_minor": 0,
  "metadata": {
    "colab": {
      "provenance": [],
      "authorship_tag": "ABX9TyP37QrjqCS6ncbsSv075b5f",
      "include_colab_link": true
    },
    "kernelspec": {
      "name": "python3",
      "display_name": "Python 3"
    },
    "language_info": {
      "name": "python"
    }
  },
  "cells": [
    {
      "cell_type": "markdown",
      "metadata": {
        "id": "view-in-github",
        "colab_type": "text"
      },
      "source": [
        "<a href=\"https://colab.research.google.com/github/mrmaggoo1/MAT421/blob/main/Module_D.ipynb\" target=\"_parent\"><img src=\"https://colab.research.google.com/assets/colab-badge.svg\" alt=\"Open In Colab\"/></a>"
      ]
    },
    {
      "cell_type": "markdown",
      "source": [
        "1.1 Introduction\n",
        "\n",
        "Sets: Collection of objects {}\n",
        "\n",
        "Naturals [N] - {1,2,3,4...}\n",
        "\n",
        "Wholes [W] - W = N U {0}\n",
        "\n",
        "Integers [Z] - Z = W U {-1,-2,-3...}\n",
        "\n",
        "Rationals [Q] - Q = {p/q: p ∈ Z, q ∈ z\\{0}}\n",
        "\n",
        "Irrationals [I] - I: the set of real numbers not expressible as a fraction of integers\n",
        "\n",
        "Reals [R] - R = Q U I\n",
        "\n",
        "Complex Numbers [C] - C = {a+bi: a,b∈ R, i= sqrt(-1)}\n"
      ],
      "metadata": {
        "id": "OQekcC409zDk"
      }
    },
    {
      "cell_type": "markdown",
      "source": [
        "1.2: Elements of Linear Algebra\n",
        "\n",
        "Linear Subspace: A linear subspace is a subset of a vector space that is itself a vector space under the operations of vector addition and scalar multiplication defined on the larger vector space.\n",
        "\n",
        "Span: the set of all possible linear combinations of those vectors.\n",
        "\n",
        "Column Space: the set of all linear combinations of the columns of the matrix.\n",
        "\n",
        "Linear Independence:  a property of a set of vectors in a vector space, where no vector in the set can be represented as a linear combination of the others.\n",
        "\n",
        "Dimension Theorem: the Dimension Theorem states that the number of linearly independent rows in a matrix is equal to the number of linearly independent columns.\n",
        "\n",
        "Orthogonal Projection: a linear transformation that projects a vector onto a subspace\n",
        "\n",
        "Best Approximation Theorem: this theorem states that there is a unique vector in the subspace that is the best approximation of the original vector in terms of the distance defined by the inner product.\n",
        "\n",
        "Cauchy-Schwarz:states that for any two vectors in a real inner product space, the dot product of the vectors is less than or equal to the product of the magnitudes of the vectors, with equality holding if the vectors are linearly dependent.\n",
        "\n",
        "Gram-Schmidt: a method for orthonormalizing a set of linearly independent vectors in a vector space to form an orthonormal basis for the space. The process works by iteratively transforming each vector in the set into a vector that is orthogonal to the previous vectors and has a magnitude of 1.\n",
        "\n",
        "Eigenvalues and Eigenvectors: An eigenvector of a linear transformation is a non-zero vector that, when the transformation is applied to it, only changes its magnitude and not its direction. The scalar factor by which the magnitude of the vector changes is called the eigenvalue corresponding to the eigenvector.\n",
        "\n",
        "The Spectral Theorem of Symmetric Matrices: The Spectral Theorem for symmetric matrices states that any real symmetric matrix (i.e., a square matrix that is equal to its transpose) can be diagonalized by an orthogonal matrix, meaning it can be transformed into a diagonal matrix with real eigenvalues.\n"
      ],
      "metadata": {
        "id": "HmuVDAqk-JxQ"
      }
    },
    {
      "cell_type": "code",
      "source": [
        "# P1: row and column vectors\n",
        "import numpy as np\n",
        "# create row vector \n",
        "v_row = np.array([[1,-4,5,2,6]]) \n",
        "# create column vector\n",
        "v_col = np.array([[1],\n",
        "                  [3],\n",
        "                  [5],\n",
        "                  [7],\n",
        "                  [10]])\n",
        "# print shape of row and column vectors\n",
        "print(v_row.shape)\n",
        "print(v_col.shape)"
      ],
      "metadata": {
        "colab": {
          "base_uri": "https://localhost:8080/"
        },
        "id": "7itPHDq0Da65",
        "outputId": "3b93b723-732f-4068-d441-52f666a078ff"
      },
      "execution_count": null,
      "outputs": [
        {
          "output_type": "stream",
          "name": "stdout",
          "text": [
            "(1, 5)\n",
            "(5, 1)\n"
          ]
        }
      ]
    },
    {
      "cell_type": "code",
      "source": [
        "# P2: transpose row vector into column vector and calc the L1, L2, and Linf norms\n",
        "# The norm of a vector is a measure of its length.\n",
        "from numpy.linalg import norm\n",
        "# create new column vector from transposed row vector\n",
        "t_vec = v_row.T\n",
        "# print vector\n",
        "print(t_vec)\n",
        "# calc norms using norm function using vector and norm type as arguments\n",
        "n1 = norm(t_vec,1)\n",
        "n2 = norm(t_vec,2);\n",
        "n_inf = norm(t_vec,np.inf)\n",
        "print('L1 is: %1.f'%n1)\n",
        "print('L2 is: %1.f'%n2)\n",
        "print('L_inf is: %1.f'%n_inf)"
      ],
      "metadata": {
        "colab": {
          "base_uri": "https://localhost:8080/"
        },
        "id": "NipO3IZgEigb",
        "outputId": "29cdcf9f-6dee-40c2-a3ac-324fa2abe568"
      },
      "execution_count": null,
      "outputs": [
        {
          "output_type": "stream",
          "name": "stdout",
          "text": [
            "[[ 1]\n",
            " [-4]\n",
            " [ 5]\n",
            " [ 2]\n",
            " [ 6]]\n",
            "L1 is: 18\n",
            "L2 is: 9\n",
            "L_inf is: 6\n"
          ]
        }
      ]
    },
    {
      "cell_type": "code",
      "source": [
        "# P3: Calc angle between vectors\n",
        "from numpy import arccos, dot\n",
        "# define vectors\n",
        "v1 = np.array([[1,5,7]])\n",
        "v2 = np.array([[3,2,4]])\n",
        "# find angle theta\n",
        "theta = \\\n",
        "    arccos(dot(v1,v2.T)/(norm(v1)*norm(v2)))\n",
        "print(theta)"
      ],
      "metadata": {
        "colab": {
          "base_uri": "https://localhost:8080/"
        },
        "id": "HIqjh1otHqIJ",
        "outputId": "64a44122-980d-42c6-b2c8-80fa8a40e414"
      },
      "execution_count": null,
      "outputs": [
        {
          "output_type": "stream",
          "name": "stdout",
          "text": [
            "[[0.49675793]]\n"
          ]
        }
      ]
    },
    {
      "cell_type": "code",
      "source": [
        "# P4: Cross product of two vectors\n",
        "# define vectors\n",
        "v1 = np.array ([[1,2,3]])\n",
        "v2 = np.array([[4,5,6]])\n",
        "print(np.cross(v1,v2))"
      ],
      "metadata": {
        "colab": {
          "base_uri": "https://localhost:8080/"
        },
        "id": "wghtx8wwIxpU",
        "outputId": "41ab3e73-7018-4975-b8e9-10a6ee082269"
      },
      "execution_count": null,
      "outputs": [
        {
          "output_type": "stream",
          "name": "stdout",
          "text": [
            "[[-3  6 -3]]\n"
          ]
        }
      ]
    },
    {
      "cell_type": "code",
      "source": [
        "# P5: Given multiple vectors, create a linear combination of those vectors\n",
        "# The result of a linear combination is also a vector, which lies in the same vector space as the original vectors.\n",
        "# define vectors\n",
        "v1 = np.array([[1,2,3]])\n",
        "v2 = np.array([[4,5,6]])\n",
        "v3 = np.array([[7,8,9]])\n",
        "# create L.C. vector using arbitrary scalars\n",
        "x = 1*v1+2*v2+3*v3\n",
        "print(x)"
      ],
      "metadata": {
        "id": "Qhj9bX8aLGoA",
        "colab": {
          "base_uri": "https://localhost:8080/"
        },
        "outputId": "c2abac36-633e-43e8-c6b9-b148078b6dc0"
      },
      "execution_count": null,
      "outputs": [
        {
          "output_type": "stream",
          "name": "stdout",
          "text": [
            "[[30 36 42]]\n"
          ]
        }
      ]
    },
    {
      "cell_type": "code",
      "source": [
        "# P6: Find eigenvalues and eigenvectors of a square matrix\n",
        "import numpy as np\n",
        "from numpy.linalg import eig\n",
        "# create matrices\n",
        "x = ([[2,5], [1,6]])\n",
        "E1,E2=eig(x)\n",
        "print('Eigenvalue = ',E1)\n",
        "print('Eigenvector = ',E2)"
      ],
      "metadata": {
        "colab": {
          "base_uri": "https://localhost:8080/"
        },
        "id": "UI8Ih0a3mkSu",
        "outputId": "8f4ddb44-b6b6-467c-9fcf-0a5ac5a01fea"
      },
      "execution_count": null,
      "outputs": [
        {
          "output_type": "stream",
          "name": "stdout",
          "text": [
            "Eigenvalue =  [1. 7.]\n",
            "Eigenvector =  [[-0.98058068 -0.70710678]\n",
            " [ 0.19611614 -0.70710678]]\n"
          ]
        }
      ]
    },
    {
      "cell_type": "markdown",
      "source": [
        "1.3: Linear Regression"
      ],
      "metadata": {
        "id": "B6sICoSrovUC"
      }
    },
    {
      "cell_type": "code",
      "source": [
        "# P6: Perform linear regression using direct inverse method\n",
        "import numpy as np\n",
        "from scipy import optimize\n",
        "import matplotlib.pyplot as plt\n",
        "\n",
        "plt.style.use('seaborn-poster')\n",
        "# generate x and y\n",
        "x = np.linspace(0, 1, 101)\n",
        "y = 1 + x + x * np.random.random(len(x))\n",
        "# assemble matrix A\n",
        "A = np.vstack([x, np.ones(len(x))]).T\n",
        "\n",
        "# turn y into a column vector\n",
        "y = y[:, np.newaxis]\n",
        "# Direct least square regression\n",
        "alpha = np.dot((np.dot(np.linalg.inv(np.dot(A.T,A)),A.T)),y)\n",
        "print(alpha)\n",
        "# plot the results\n",
        "plt.figure(figsize = (10,8))\n",
        "plt.plot(x, y, 'b.')\n",
        "plt.plot(x, alpha[0]*x + alpha[1], 'r')\n",
        "plt.xlabel('x')\n",
        "plt.ylabel('y')\n",
        "plt.show()"
      ],
      "metadata": {
        "colab": {
          "base_uri": "https://localhost:8080/",
          "height": 552
        },
        "id": "K95GhyQyo67G",
        "outputId": "5b023ddf-d60a-4b21-94d7-9b6b9bfffd2c"
      },
      "execution_count": 39,
      "outputs": [
        {
          "output_type": "stream",
          "name": "stdout",
          "text": [
            "[[1.51268328]\n",
            " [0.98399359]]\n"
          ]
        },
        {
          "output_type": "display_data",
          "data": {
            "text/plain": [
              "<Figure size 720x576 with 1 Axes>"
            ],
            "image/png": "[encoded data removed]"
          },
          "metadata": {
            "needs_background": "light"
          }
        }
      ]
    },
    {
      "cell_type": "code",
      "source": [
        "# P7: Use pseudoinverse\n",
        "pinv = np.linalg.pinv(A)\n",
        "alpha = pinv.dot(y)\n",
        "print(alpha)\n",
        "\n",
        "# repeat with lunalg function\n",
        "alpha = np.linalg.lstsq(A, y, rcond=None)[0]\n",
        "print(alpha)"
      ],
      "metadata": {
        "colab": {
          "base_uri": "https://localhost:8080/"
        },
        "id": "tcvDog8Xxj9r",
        "outputId": "0cf10389-e3b3-48d9-bc31-5af763e8f741"
      },
      "execution_count": 40,
      "outputs": [
        {
          "output_type": "stream",
          "name": "stdout",
          "text": [
            "[[1.51268328]\n",
            " [0.98399359]]\n",
            "[[1.51268328]\n",
            " [0.98399359]]\n"
          ]
        }
      ]
    }
  ]
}